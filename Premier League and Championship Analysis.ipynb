{
 "cells": [
  {
   "cell_type": "code",
   "execution_count": 9,
   "id": "9aa44679",
   "metadata": {},
   "outputs": [],
   "source": [
    "import pandas as pd\n",
    "import matplotlib.pyplot as plt"
   ]
  },
  {
   "cell_type": "code",
   "execution_count": 10,
   "id": "eb7e06bf",
   "metadata": {},
   "outputs": [],
   "source": [
    "#Load the Dataset\n",
    "df = pd.read_csv('England CSV.csv')"
   ]
  },
  {
   "cell_type": "code",
   "execution_count": 11,
   "id": "8fb9d90d",
   "metadata": {},
   "outputs": [
    {
     "name": "stdout",
     "output_type": "stream",
     "text": [
      "(12153, 25)\n",
      "Index(['Date', 'Season', 'HomeTeam', 'AwayTeam', 'FTH Goals', 'FTA Goals',\n",
      "       'FT Result', 'HTH Goals', 'HTA Goals', 'HT Result', 'Referee',\n",
      "       'H Shots', 'A Shots', 'H SOT', 'A SOT', 'H Fouls', 'A Fouls',\n",
      "       'H Corners', 'A Corners', 'H Yellow', 'A Yellow', 'H Red', 'A Red',\n",
      "       'Display_Order', 'League'],\n",
      "      dtype='object')\n",
      "Date              object\n",
      "Season            object\n",
      "HomeTeam          object\n",
      "AwayTeam          object\n",
      "FTH Goals          int64\n",
      "FTA Goals          int64\n",
      "FT Result         object\n",
      "HTH Goals        float64\n",
      "HTA Goals        float64\n",
      "HT Result         object\n",
      "Referee           object\n",
      "H Shots          float64\n",
      "A Shots          float64\n",
      "H SOT            float64\n",
      "A SOT            float64\n",
      "H Fouls          float64\n",
      "A Fouls          float64\n",
      "H Corners        float64\n",
      "A Corners        float64\n",
      "H Yellow         float64\n",
      "A Yellow         float64\n",
      "H Red            float64\n",
      "A Red            float64\n",
      "Display_Order      int64\n",
      "League            object\n",
      "dtype: object\n",
      "         Date   Season      HomeTeam                AwayTeam  FTH Goals  \\\n",
      "0  16/01/2025  2024/25  Ipswich Town  Brighton & Hove Albion          0   \n",
      "1  16/01/2025  2024/25    Man United             Southampton          3   \n",
      "2  15/01/2025  2024/25       Everton             Aston Villa          0   \n",
      "3  15/01/2025  2024/25     Leicester          Crystal Palace          0   \n",
      "4  15/01/2025  2024/25     Newcastle                  Wolves          3   \n",
      "\n",
      "   FTA Goals FT Result  HTH Goals  HTA Goals HT Result  ... H Fouls  A Fouls  \\\n",
      "0          2         A        0.0        1.0         A  ...    13.0     14.0   \n",
      "1          1         H        0.0        1.0         A  ...     7.0     10.0   \n",
      "2          1         A        0.0        0.0         D  ...    17.0     10.0   \n",
      "3          2         A        0.0        0.0         D  ...     7.0      6.0   \n",
      "4          0         H        1.0        0.0         H  ...    10.0     13.0   \n",
      "\n",
      "   H Corners  A Corners  H Yellow  A Yellow  H Red  A Red  Display_Order  \\\n",
      "0        1.0        9.0       2.0       2.0    0.0    0.0       20250116   \n",
      "1        4.0        4.0       1.0       3.0    0.0    0.0       20250116   \n",
      "2        8.0        5.0       2.0       1.0    0.0    0.0       20250115   \n",
      "3        4.0        3.0       0.0       0.0    0.0    0.0       20250115   \n",
      "4        4.0        2.0       0.0       2.0    0.0    0.0       20250115   \n",
      "\n",
      "           League  \n",
      "0  Premier League  \n",
      "1  Premier League  \n",
      "2  Premier League  \n",
      "3  Premier League  \n",
      "4  Premier League  \n",
      "\n",
      "[5 rows x 25 columns]\n"
     ]
    }
   ],
   "source": [
    "# 2. Inspect the dataset\n",
    "print(df.shape)        # rows and columns\n",
    "print(df.columns)      # column names\n",
    "print(df.dtypes)       # data types\n",
    "print(df.head())       # first few rows"
   ]
  },
  {
   "cell_type": "code",
   "execution_count": 12,
   "id": "ed7e6502",
   "metadata": {},
   "outputs": [
    {
     "name": "stderr",
     "output_type": "stream",
     "text": [
      "C:\\Users\\kotha\\AppData\\Local\\Temp\\ipykernel_33860\\2527461915.py:3: UserWarning: Parsing dates in %d/%m/%Y format when dayfirst=False (the default) was specified. Pass `dayfirst=True` or specify a format to silence this warning.\n",
      "  df['Date'] = pd.to_datetime(df['Date'], errors='coerce')\n"
     ]
    }
   ],
   "source": [
    "# 3. Make sure date is parsed correctly\n",
    "if 'Date' in df.columns:\n",
    "    df['Date'] = pd.to_datetime(df['Date'], errors='coerce')\n",
    "    df['Season'] = df['Date'].dt.year"
   ]
  },
  {
   "cell_type": "code",
   "execution_count": 16,
   "id": "5692e056",
   "metadata": {},
   "outputs": [],
   "source": [
    "# 4. Example: average goals per match by season\n",
    "if 'FTHG' in df.columns and 'FTAG' in df.columns:  # typical column names for goals\n",
    "    df['TotalGoals'] = df['FTHG'] + df['FTAG']\n",
    "    avg_goals = df.groupby('Season')['TotalGoals'].mean()\n",
    "\n",
    "    plt.figure(figsize=(10,5))\n",
    "    avg_goals.plot(kind='line', marker='o')\n",
    "    plt.title(\"Average Goals per Match by Season\")\n",
    "    plt.xlabel(\"Season\")\n",
    "    plt.ylabel(\"Average Goals\")\n",
    "    plt.grid(True)\n",
    "    plt.show()"
   ]
  }
 ],
 "metadata": {
  "kernelspec": {
   "display_name": "Python 3",
   "language": "python",
   "name": "python3"
  },
  "language_info": {
   "codemirror_mode": {
    "name": "ipython",
    "version": 3
   },
   "file_extension": ".py",
   "mimetype": "text/x-python",
   "name": "python",
   "nbconvert_exporter": "python",
   "pygments_lexer": "ipython3",
   "version": "3.13.7"
  }
 },
 "nbformat": 4,
 "nbformat_minor": 5
}
